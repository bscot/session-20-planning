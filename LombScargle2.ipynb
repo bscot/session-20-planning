{
 "cells": [
  {
   "cell_type": "code",
   "execution_count": null,
   "metadata": {},
   "outputs": [],
   "source": [
    "Lecture 2 Outline:\n",
    "\n",
    "1. How LS relates to classical periodogram relates to PSD (they are estimators of PSD) -- (also, why can't we just take the FT? i.e. we don't know signal)\n",
    "2. Sketch derivations of LS: smart choice of coefficients (Scargle) + least squares (Lomb)\n",
    "3. Some useful extensions: uncertainties (6.1), floating mean (6.2), higher-order modes (6.3)\n",
    "4. Computing the window function & the CLEAN algorithm\n",
    "5. FAPS and eFAPS\n",
    "6. When the LS periodogram fails: ex: P/2 being isolated in rotation curve. \n",
    "7. When the LS periodogram fails: correlated noise\n",
    "8. When the LS periodogram fails: low SNR, window function peaks or aliases being confused for real peaks\n",
    "\n",
    "Problem ideas:\n",
    "- compute the actual periodogram and compare it to the LS periodogram\n",
    "- use astropy periodogram, investigate normalization schemes\n",
    "- numerically compute window function, eFAP, and LS (incorporating/not \n",
    "  uncertainties & floating mean & higher-order modes)\n",
    "- (more)"
   ]
  }
 ],
 "metadata": {
  "language_info": {
   "name": "python"
  }
 },
 "nbformat": 4,
 "nbformat_minor": 2
}
