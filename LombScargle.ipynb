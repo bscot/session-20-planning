{
 "cells": [
  {
   "cell_type": "code",
   "execution_count": null,
   "metadata": {},
   "outputs": [],
   "source": [
    "\"\"\"\n",
    "Unabashedly following Jake van der Plas' excellent overview paper:\n",
    "https://iopscience.iop.org/article/10.3847/1538-4365/aab766\n",
    "\n",
    "Lecture 1 Outline:\n",
    "\n",
    "0. Motivation: what is real data like? nonuniform, different sized error bars.\n",
    "   Why LS? It's the most common, and its generally fast. Major classes of periodicity \n",
    "   detection: phase folding, fourier-based, least-squares model-fitting \n",
    "1. Brief restatement of Fourier stuff from Bryan's lesson\n",
    "2. Effect of (uniform) sampling (3.2, fig 7)\n",
    "3. Effect of nonuniform sampling (4, figs 9 & 10)\n",
    "4. Effect of semistructured observing windows (4.2, figs 14 & 15)\n",
    "5. Definitions: beating, aliasing, window function\n",
    "\n",
    "Problem ideas:\n",
    "- given a window function and a true signal, draw the LS periodogram\n",
    "- identify beat frequencies and alias frequencies in LS of real data\n",
    "- decide a follow-up strategy based on a window function & a LS periodogram\n",
    "- (more)\n",
    "\n",
    "Lecture 2 Outline:\n",
    "\n",
    "1. How LS relates to classical periodogram relates to PSD (they are estimators of PSD)\n",
    "2. Sketch derivations of LS: smart choice of coefficients (Scargle) + least squares (Lomb)\n",
    "3. Some useful extensions: uncertainties (6.1), floating mean (6.2), higher-order modes (6.3)\n",
    "4. Computing the window function & the CLEAN algorithm\n",
    "5. FAPS and eFAPS\n",
    "6. When the LS periodogram fails: ex: P/2 being isolated in rotation curve. \n",
    "7. When the LS periodogram fails: correlated noise\n",
    "\n",
    "Problem ideas:\n",
    "- compute the actual periodogram and compare it to the LS periodogram\n",
    "- use astropy periodogram, investigate normalization schemes\n",
    "- numerically compute window function, eFAP, and LS (incorporating/not \n",
    "  uncertainties & floating mean & higher-order modes)\n",
    "- (more)\n",
    "\n",
    "\"\"\""
   ]
  }
 ],
 "metadata": {
  "language_info": {
   "name": "python"
  }
 },
 "nbformat": 4,
 "nbformat_minor": 2
}
